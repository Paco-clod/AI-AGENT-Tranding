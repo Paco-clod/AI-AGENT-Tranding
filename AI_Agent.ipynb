{
  "nbformat": 4,
  "nbformat_minor": 0,
  "metadata": {
    "colab": {
      "provenance": [],
      "authorship_tag": "ABX9TyPePVdOLjc6MZiGCJ16LhgL"
    },
    "kernelspec": {
      "name": "python3",
      "display_name": "Python 3"
    },
    "language_info": {
      "name": "python"
    }
  },
  "cells": [
    {
      "cell_type": "markdown",
      "source": [
        "# Building an AI Agent using Agentic AI"
      ],
      "metadata": {
        "id": "2bcyralRt4yx"
      }
    },
    {
      "cell_type": "markdown",
      "source": [
        "Agentic AI refers to artificial intelligence systems that can perceive their environment, make decisions, and act autonomously to achieve a goal. These agents typically use reinforcement learning (RL) methods to optimize their behaviour over time through interactions with an environment. In this article, I’ll explain how to build an AI Agent for trading using Agentic AI with Python."
      ],
      "metadata": {
        "id": "qr7Q8NcqUJmw"
      }
    },
    {
      "cell_type": "markdown",
      "source": [
        "Understanding the Components of Agentic AI\n",
        "\n",
        "\n",
        "Agentic AI involves several key components. In this article, I’ll be building an AI Agent for trading. So, let’s understand the key components of Agentic AI with our example:"
      ],
      "metadata": {
        "id": "K0eCWQi2U9w4"
      }
    },
    {
      "cell_type": "markdown",
      "source": [
        "1. **The Agent**: The agent is the decision-making entity in the AI system. In our case, the DQN trading agent will be responsible for making trading decisions based on market data.\n",
        "2. **The Environment**: The environment is the external system in which the agent operates. Our trading environment will consist of stock market data, where the agent will interact with price movements and execute trades.\n",
        "3. **The State**: The state represents the information available to the agent at any given time. Our trading agent’s state includes the stock’s closing price, moving averages, and daily returns.\n",
        "4. **The Action Space**: The action space defines what actions the agent can take. Our trading agent has three possible actions: Buy, Sell, and Hold.\n",
        "5. **The Reward Function**: The reward function determines the agent’s performance by assigning a numerical value to its actions. The goal of our trading agent will be to maximize total profit by the end of the trading session.\n",
        "\n",
        "\n",
        "\n",
        "Having this knowledge will help you understand all the steps we will take further to build an AI Agent using Agentic AI."
      ],
      "metadata": {
        "id": "J8uA2w5VVDCY"
      }
    },
    {
      "cell_type": "markdown",
      "source": [
        "## Building an AI Agent using Agentic AI: Getting Started"
      ],
      "metadata": {
        "id": "EJoV5Ea-VgTI"
      }
    },
    {
      "cell_type": "markdown",
      "source": [
        "Now, let’s get started with building an AI Agent for trading using Agentic AI. I’ll first import all the necessary Python libraries and collect Apple’s stock market data from Yahoo Finance:"
      ],
      "metadata": {
        "id": "Go6EAXtwVkg0"
      }
    },
    {
      "cell_type": "code",
      "source": [
        "import yfinance as yf\n",
        "import pandas as pd\n",
        "import numpy as np\n",
        "import torch\n",
        "import torch.nn as nn\n",
        "import torch.optim as optim\n",
        "import random\n",
        "from collections import deque"
      ],
      "metadata": {
        "id": "ZMZdBgBot4dD"
      },
      "execution_count": null,
      "outputs": []
    },
    {
      "cell_type": "code",
      "execution_count": null,
      "metadata": {
        "id": "sLFouDozqUhU",
        "colab": {
          "base_uri": "https://localhost:8080/"
        },
        "outputId": "479b3abf-521f-4c50-927c-24a0fb098fc3"
      },
      "outputs": [
        {
          "output_type": "stream",
          "name": "stderr",
          "text": [
            "\r[*********************100%***********************]  1 of 1 completed\n"
          ]
        }
      ],
      "source": [
        "# define stock symbol and time period\n",
        "symbol = \"AAPL\"\n",
        "start_date = \"2020-01-01\"\n",
        "end_date = \"2025-05-15\"\n",
        "\n",
        "# download historical data\n",
        "data = yf.download(symbol, start=start_date, end=end_date)"
      ]
    },
    {
      "cell_type": "markdown",
      "source": [
        "Now, we will calculate technical indicators that help the AI agent make better trading decisions:"
      ],
      "metadata": {
        "id": "844XvQAdWDaK"
      }
    },
    {
      "cell_type": "code",
      "source": [
        "# feature engineering\n",
        "data['SMA_5'] = data['Close'].rolling(window=5).mean()\n",
        "data['SMA_20'] = data['Close'].rolling(window=20).mean()\n",
        "data['Returns'] = data['Close'].pct_change()"
      ],
      "metadata": {
        "id": "rT6FXw5SVviE"
      },
      "execution_count": null,
      "outputs": []
    },
    {
      "cell_type": "markdown",
      "source": [
        "Now, let’s drop missing values and reset the index:"
      ],
      "metadata": {
        "id": "CGxC_YC2WI1E"
      }
    },
    {
      "cell_type": "code",
      "source": [
        "# drop NaN values and reset index\n",
        "data.dropna(inplace=True)\n",
        "data.reset_index(drop=True, inplace=True)"
      ],
      "metadata": {
        "id": "IlVGVqF0WG1d"
      },
      "execution_count": null,
      "outputs": []
    },
    {
      "cell_type": "markdown",
      "source": [
        "Next, we will define the action space. The AI agent has three possible actions:\n",
        "\n",
        "- HOLD: Do nothing.\n",
        "- BUY: Purchase stocks.\n",
        "- SELL: Sell held stocks."
      ],
      "metadata": {
        "id": "CaCdjcbbWNrw"
      }
    },
    {
      "cell_type": "code",
      "source": [
        "# define action space\n",
        "ACTIONS = {0: \"HOLD\", 1: \"BUY\", 2: \"SELL\"}"
      ],
      "metadata": {
        "id": "3tJrbXzZWLgk"
      },
      "execution_count": null,
      "outputs": []
    },
    {
      "cell_type": "markdown",
      "source": [
        "This action space is used to train the reinforcement learning model.\n",
        "\n",
        "\n",
        "Now, we will extract the State from the data:"
      ],
      "metadata": {
        "id": "D-Yx3Y4JWbGX"
      }
    },
    {
      "cell_type": "code",
      "source": [
        "# get state function\n",
        "def get_state(data, index):\n",
        "    return np.array([\n",
        "        float(data.loc[index, 'Close']),\n",
        "        float(data.loc[index, 'SMA_5']),\n",
        "        float(data.loc[index, 'SMA_20']),\n",
        "        float(data.loc[index, 'Returns'])\n",
        "    ])"
      ],
      "metadata": {
        "id": "u4_j5mUcWXj4"
      },
      "execution_count": null,
      "outputs": []
    },
    {
      "cell_type": "markdown",
      "source": [
        "This function extracts the state representation from the dataset at a given time index. The state is an array containing:\n",
        "\n",
        "- Closing price\n",
        "- 5-day SMA\n",
        "- 20-day SMA\n",
        "- Daily return percentage\n",
        "\n",
        "\n",
        "\n",
        "This numerical representation of the stock market is fed into the AI model to make trading decisions."
      ],
      "metadata": {
        "id": "yQtd9Fw3WlL4"
      }
    },
    {
      "cell_type": "markdown",
      "source": [
        "## Building The Trading Environment for our AI Agent\n",
        "\n",
        "\n",
        "We will now define a trading environment to interact with the Deep Q-Network (DQN) AI agent, which will allow it to learn how to trade stocks profitably:"
      ],
      "metadata": {
        "id": "8uBs8nHcWu5x"
      }
    },
    {
      "cell_type": "code",
      "source": [
        "# trading environment\n",
        "class TradingEnvironment:\n",
        "    def __init__(self, data):\n",
        "        self.data = data\n",
        "        self.initial_balance = 10000\n",
        "        self.balance = self.initial_balance\n",
        "        self.holdings = 0\n",
        "        self.index = 0\n",
        "\n",
        "    def reset(self):\n",
        "        self.balance = self.initial_balance\n",
        "        self.holdings = 0\n",
        "        self.index = 0\n",
        "        return get_state(self.data, self.index)\n",
        "\n",
        "    def step(self, action):\n",
        "        price = float(self.data.loc[self.index, 'Close'])\n",
        "        reward = 0\n",
        "\n",
        "        if action == 1 and self.balance >= price:  # BUY\n",
        "            self.holdings = self.balance // price\n",
        "            self.balance -= self.holdings * price\n",
        "        elif action == 2 and self.holdings > 0:  # SELL\n",
        "            self.balance += self.holdings * price\n",
        "            self.holdings = 0\n",
        "\n",
        "        self.index += 1\n",
        "        done = self.index >= len(self.data) - 1\n",
        "\n",
        "        if done:\n",
        "            reward = self.balance - self.initial_balance\n",
        "\n",
        "        next_state = get_state(self.data, self.index) if not done else None\n",
        "        return next_state, reward, done, {}"
      ],
      "metadata": {
        "id": "HaaB2kPvWh0_"
      },
      "execution_count": null,
      "outputs": []
    },
    {
      "cell_type": "markdown",
      "source": [
        "The environment is implemented as a class that simulates the stock market. It tracks the agent’s balance, holdings, and current market index, and it provides new states and rewards in response to the agent’s actions."
      ],
      "metadata": {
        "id": "OiMpXNbbW6Eo"
      }
    },
    {
      "cell_type": "markdown",
      "source": [
        "## The Deep Q-Network (DQN)\n",
        "\n",
        "DQN is a neural network that approximates the Q-values for each state-action pair. We will now define the neural network architecture for our Deep Q-Network. It will be responsible for predicting the best trading actions based on the stock market state:"
      ],
      "metadata": {
        "id": "o5EV9CQ9W8vW"
      }
    },
    {
      "cell_type": "code",
      "source": [
        "# deep q-network\n",
        "class DQN(nn.Module):\n",
        "    def __init__(self, state_size, action_size):\n",
        "        super(DQN, self).__init__()\n",
        "        self.fc1 = nn.Linear(state_size, 64)\n",
        "        self.fc2 = nn.Linear(64, 64)\n",
        "        self.fc3 = nn.Linear(64, action_size)\n",
        "\n",
        "    def forward(self, x):\n",
        "        x = torch.relu(self.fc1(x))\n",
        "        x = torch.relu(self.fc2(x))\n",
        "        return self.fc3(x)"
      ],
      "metadata": {
        "id": "p7AOKOuVW2gj"
      },
      "execution_count": null,
      "outputs": []
    },
    {
      "cell_type": "markdown",
      "source": [
        "Here we built a **Deep Q-Network** using **PyTorch** to optimize stock trading decisions. The model features a **three-layer neural network** to predict trading actions, leveraging **ReLU activation** to enhance learning efficiency.\n",
        "\n",
        "It outputs **Q-values**, which the agent utilizes to determine the best action: **buy**, **sell**, or **hold**, based on market conditions."
      ],
      "metadata": {
        "id": "rhQ43sNQXUsF"
      }
    },
    {
      "cell_type": "markdown",
      "source": [
        "## The DQN Agent\n",
        "\n",
        "Now, we will implement the AI agent that learns how to trade stocks using Deep Q-Learning. The DQN Agent will interact with the trading environment, make trading decisions (BUY, SELL, HOLD), store experiences, and learn from past experiences to improve future decisions:"
      ],
      "metadata": {
        "id": "LEkYceQjXj0v"
      }
    },
    {
      "cell_type": "code",
      "source": [
        "# DQN agent\n",
        "class DQNAgent:\n",
        "    def __init__(self, state_size, action_size):\n",
        "        self.state_size = state_size\n",
        "        self.action_size = action_size\n",
        "        self.memory = deque(maxlen=2000)\n",
        "        self.gamma = 0.95  # Discount factor\n",
        "        self.epsilon = 1.0  # Exploration rate\n",
        "        self.epsilon_min = 0.01\n",
        "        self.epsilon_decay = 0.995\n",
        "        self.learning_rate = 0.001\n",
        "        self.model = DQN(state_size, action_size)\n",
        "        self.optimizer = optim.Adam(self.model.parameters(), lr=self.learning_rate)\n",
        "        self.criterion = nn.MSELoss()\n",
        "\n",
        "    def remember(self, state, action, reward, next_state, done):\n",
        "        self.memory.append((state, action, reward, next_state, done))\n",
        "\n",
        "    def act(self, state):\n",
        "        if random.uniform(0, 1) < self.epsilon:\n",
        "            return random.choice(list(ACTIONS.keys()))\n",
        "        state = torch.FloatTensor(state).unsqueeze(0)\n",
        "        with torch.no_grad():\n",
        "            q_values = self.model(state)\n",
        "        return torch.argmax(q_values).item()\n",
        "\n",
        "    def replay(self, batch_size):\n",
        "        if len(self.memory) < batch_size:\n",
        "            return\n",
        "        minibatch = random.sample(self.memory, batch_size)\n",
        "\n",
        "        for state, action, reward, next_state, done in minibatch:\n",
        "            target = reward\n",
        "            if not done:\n",
        "                next_state_tensor = torch.FloatTensor(next_state).unsqueeze(0)\n",
        "                target += self.gamma * torch.max(self.model(next_state_tensor)).item()\n",
        "\n",
        "            state_tensor = torch.FloatTensor(state).unsqueeze(0)\n",
        "            target_tensor = self.model(state_tensor).clone().detach()\n",
        "            target_tensor[0][action] = target\n",
        "\n",
        "            self.optimizer.zero_grad()\n",
        "            output = self.model(state_tensor)\n",
        "            loss = self.criterion(output, target_tensor)\n",
        "            loss.backward()\n",
        "            self.optimizer.step()\n",
        "\n",
        "        if self.epsilon > self.epsilon_min:\n",
        "            self.epsilon *= self.epsilon_decay"
      ],
      "metadata": {
        "id": "hDkLondIXShM"
      },
      "execution_count": null,
      "outputs": []
    },
    {
      "cell_type": "markdown",
      "source": [
        "So, we developed a Deep Q-Learning Agent to interact with the stock market environment to enhance its decision-making through Experience Replay, which stores and reuses past experiences for training. The agent effectively balances Exploration vs. Exploitation, taking random actions initially and making smarter decisions as learning progresses.\n",
        "\n",
        "\n",
        "\n",
        "\n",
        "Training is performed using batches of past experiences to refine the neural network’s performance. Additionally, a discount factor (gamma) is applied to weigh immediate and future rewards, to ensure long-term profitability."
      ],
      "metadata": {
        "id": "OBnsgdBnX57J"
      }
    },
    {
      "cell_type": "markdown",
      "source": [
        "## Training the AI Agent\n",
        "\n",
        "\n",
        "Training involves running multiple episodes where the agent interacts with the environment, learns from experience, and updates its model. Let’s train the agent:"
      ],
      "metadata": {
        "id": "kd45_UkjX-Cy"
      }
    },
    {
      "cell_type": "code",
      "source": [
        "# train the agent\n",
        "env = TradingEnvironment(data)\n",
        "agent = DQNAgent(state_size=4, action_size=3)\n",
        "batch_size = 32\n",
        "episodes = 500\n",
        "total_rewards = []\n",
        "\n",
        "for episode in range(episodes):\n",
        "    state = env.reset()\n",
        "    done = False\n",
        "    total_reward = 0\n",
        "\n",
        "    while not done:\n",
        "        action = agent.act(state)\n",
        "        next_state, reward, done, _ = env.step(action)\n",
        "        agent.remember(state, action, reward, next_state, done)\n",
        "        state = next_state\n",
        "        total_reward += reward\n",
        "\n",
        "    agent.replay(batch_size)\n",
        "    total_rewards.append(total_reward)\n",
        "    print(f\"Episode {episode+1}/{episodes}, Total Reward: {total_reward}\")\n",
        "\n",
        "print(\"Training Complete!\")"
      ],
      "metadata": {
        "colab": {
          "base_uri": "https://localhost:8080/"
        },
        "id": "d6IP1xI2Xtok",
        "outputId": "6b4bc6a2-e53c-463d-91c9-7f6a4456e4ab"
      },
      "execution_count": null,
      "outputs": [
        {
          "output_type": "stream",
          "name": "stderr",
          "text": [
            "<ipython-input-17-3915787d8dfc>:4: FutureWarning: Calling float on a single element Series is deprecated and will raise a TypeError in the future. Use float(ser.iloc[0]) instead\n",
            "  float(data.loc[index, 'Close']),\n",
            "<ipython-input-17-3915787d8dfc>:5: FutureWarning: Calling float on a single element Series is deprecated and will raise a TypeError in the future. Use float(ser.iloc[0]) instead\n",
            "  float(data.loc[index, 'SMA_5']),\n",
            "<ipython-input-17-3915787d8dfc>:6: FutureWarning: Calling float on a single element Series is deprecated and will raise a TypeError in the future. Use float(ser.iloc[0]) instead\n",
            "  float(data.loc[index, 'SMA_20']),\n",
            "<ipython-input-17-3915787d8dfc>:7: FutureWarning: Calling float on a single element Series is deprecated and will raise a TypeError in the future. Use float(ser.iloc[0]) instead\n",
            "  float(data.loc[index, 'Returns'])\n",
            "<ipython-input-18-71f231bc395a>:17: FutureWarning: Calling float on a single element Series is deprecated and will raise a TypeError in the future. Use float(ser.iloc[0]) instead\n",
            "  price = float(self.data.loc[self.index, 'Close'])\n"
          ]
        },
        {
          "output_type": "stream",
          "name": "stdout",
          "text": [
            "Episode 1/500, Total Reward: -9889.421527862549\n",
            "Episode 2/500, Total Reward: -9945.037075042725\n",
            "Episode 3/500, Total Reward: -9822.595252990723\n",
            "Episode 4/500, Total Reward: -9856.94259262085\n",
            "Episode 5/500, Total Reward: 7561.899116516113\n",
            "Episode 6/500, Total Reward: -9895.833435058594\n",
            "Episode 7/500, Total Reward: -9920.886276245117\n",
            "Episode 8/500, Total Reward: -9841.007102966309\n",
            "Episode 9/500, Total Reward: -9810.164981842041\n",
            "Episode 10/500, Total Reward: -9861.313480377197\n",
            "Episode 11/500, Total Reward: -9875.043155670166\n",
            "Episode 12/500, Total Reward: -9794.16724395752\n",
            "Episode 13/500, Total Reward: 5845.036521911621\n",
            "Episode 14/500, Total Reward: -9944.523090362549\n",
            "Episode 15/500, Total Reward: -9907.892623901367\n",
            "Episode 16/500, Total Reward: -9867.496932983398\n",
            "Episode 17/500, Total Reward: 11334.122703552246\n",
            "Episode 18/500, Total Reward: -9818.091739654541\n",
            "Episode 19/500, Total Reward: -9773.222351074219\n",
            "Episode 20/500, Total Reward: -9821.199005126953\n",
            "Episode 21/500, Total Reward: -9804.304862976074\n",
            "Episode 22/500, Total Reward: -9831.420448303223\n",
            "Episode 23/500, Total Reward: 1765.6485977172852\n",
            "Episode 24/500, Total Reward: -9815.251319885254\n",
            "Episode 25/500, Total Reward: 6081.800018310547\n",
            "Episode 26/500, Total Reward: -9853.736763000488\n",
            "Episode 27/500, Total Reward: -9788.895305633545\n",
            "Episode 28/500, Total Reward: -9945.500415802002\n",
            "Episode 29/500, Total Reward: -3121.157844543457\n",
            "Episode 30/500, Total Reward: -9888.816551208496\n",
            "Episode 31/500, Total Reward: 9046.244384765625\n",
            "Episode 32/500, Total Reward: -9886.155139923096\n",
            "Episode 33/500, Total Reward: -9985.494358062744\n",
            "Episode 34/500, Total Reward: 13718.214267730713\n",
            "Episode 35/500, Total Reward: -9912.060485839844\n",
            "Episode 36/500, Total Reward: -9921.078937530518\n",
            "Episode 37/500, Total Reward: -9830.246925354004\n",
            "Episode 38/500, Total Reward: -9968.871597290039\n",
            "Episode 39/500, Total Reward: -9990.246292114258\n",
            "Episode 40/500, Total Reward: -9956.61498260498\n",
            "Episode 41/500, Total Reward: -9930.246486663818\n",
            "Episode 42/500, Total Reward: -9916.50581741333\n",
            "Episode 43/500, Total Reward: -9900.67008972168\n",
            "Episode 44/500, Total Reward: -9861.983139038086\n",
            "Episode 45/500, Total Reward: -9769.54048538208\n",
            "Episode 46/500, Total Reward: -9981.777885437012\n",
            "Episode 47/500, Total Reward: -9773.759391784668\n",
            "Episode 48/500, Total Reward: -9804.436965942383\n",
            "Episode 49/500, Total Reward: -9998.904800415039\n",
            "Episode 50/500, Total Reward: -9940.469429016113\n",
            "Episode 51/500, Total Reward: -9787.836101531982\n",
            "Episode 52/500, Total Reward: -9907.663772583008\n",
            "Episode 53/500, Total Reward: -9922.180797576904\n",
            "Episode 54/500, Total Reward: -9867.867218017578\n",
            "Episode 55/500, Total Reward: -9874.861198425293\n",
            "Episode 56/500, Total Reward: -9787.42472076416\n",
            "Episode 57/500, Total Reward: -9912.674793243408\n",
            "Episode 58/500, Total Reward: -9854.35456085205\n",
            "Episode 59/500, Total Reward: -9940.026851654053\n",
            "Episode 60/500, Total Reward: -9947.225692749023\n",
            "Episode 61/500, Total Reward: -9823.411716461182\n",
            "Episode 62/500, Total Reward: -9937.187126159668\n",
            "Episode 63/500, Total Reward: -9866.200283050537\n",
            "Episode 64/500, Total Reward: -9817.56795501709\n",
            "Episode 65/500, Total Reward: -9965.304580688477\n",
            "Episode 66/500, Total Reward: -9695.472995758057\n",
            "Episode 67/500, Total Reward: 8320.078006744385\n",
            "Episode 68/500, Total Reward: -9931.964557647705\n",
            "Episode 69/500, Total Reward: -9862.625080108643\n",
            "Episode 70/500, Total Reward: -9856.9185256958\n",
            "Episode 71/500, Total Reward: -9919.35553741455\n",
            "Episode 72/500, Total Reward: -9973.049942016602\n",
            "Episode 73/500, Total Reward: -9916.339794158936\n",
            "Episode 74/500, Total Reward: -9912.979343414307\n",
            "Episode 75/500, Total Reward: -9891.65111541748\n",
            "Episode 76/500, Total Reward: -9941.016101837158\n",
            "Episode 77/500, Total Reward: -9943.487125396729\n",
            "Episode 78/500, Total Reward: -9757.693397521973\n",
            "Episode 79/500, Total Reward: -9881.872165679932\n",
            "Episode 80/500, Total Reward: -9869.997055053711\n",
            "Episode 81/500, Total Reward: -9859.927284240723\n",
            "Episode 82/500, Total Reward: -9794.29373550415\n",
            "Episode 83/500, Total Reward: -9829.065563201904\n",
            "Episode 84/500, Total Reward: -9972.365287780762\n",
            "Episode 85/500, Total Reward: -9886.304214477539\n",
            "Episode 86/500, Total Reward: -9829.639087677002\n",
            "Episode 87/500, Total Reward: -9745.671630859375\n",
            "Episode 88/500, Total Reward: -9743.595134735107\n",
            "Episode 89/500, Total Reward: -9868.556858062744\n",
            "Episode 90/500, Total Reward: -9890.083652496338\n",
            "Episode 91/500, Total Reward: 22574.057815551758\n",
            "Episode 92/500, Total Reward: -9777.645847320557\n",
            "Episode 93/500, Total Reward: -9902.571098327637\n",
            "Episode 94/500, Total Reward: -9968.606163024902\n",
            "Episode 95/500, Total Reward: -9941.51815032959\n",
            "Episode 96/500, Total Reward: -9844.023456573486\n",
            "Episode 97/500, Total Reward: -9804.810752868652\n",
            "Episode 98/500, Total Reward: -9767.791770935059\n",
            "Episode 99/500, Total Reward: -9860.340698242188\n",
            "Episode 100/500, Total Reward: -9943.880710601807\n",
            "Episode 101/500, Total Reward: -9958.54245376587\n",
            "Episode 102/500, Total Reward: -9812.540046691895\n",
            "Episode 103/500, Total Reward: -9911.479328155518\n",
            "Episode 104/500, Total Reward: -9994.39326095581\n",
            "Episode 105/500, Total Reward: -9855.272521972656\n",
            "Episode 106/500, Total Reward: -9806.257179260254\n",
            "Episode 107/500, Total Reward: -9995.868999481201\n",
            "Episode 108/500, Total Reward: -9842.479064941406\n",
            "Episode 109/500, Total Reward: -9863.512474060059\n",
            "Episode 110/500, Total Reward: -9832.166500091553\n",
            "Episode 111/500, Total Reward: -9952.164096832275\n",
            "Episode 112/500, Total Reward: -9895.148052215576\n",
            "Episode 113/500, Total Reward: -9888.929672241211\n",
            "Episode 114/500, Total Reward: -9880.228736877441\n",
            "Episode 115/500, Total Reward: -9916.143089294434\n",
            "Episode 116/500, Total Reward: -9989.440444946289\n",
            "Episode 117/500, Total Reward: 20059.110946655273\n",
            "Episode 118/500, Total Reward: 1504.5322952270508\n",
            "Episode 119/500, Total Reward: -9866.296852111816\n",
            "Episode 120/500, Total Reward: -9784.010028839111\n",
            "Episode 121/500, Total Reward: 3351.4446868896484\n",
            "Episode 122/500, Total Reward: 2904.033348083496\n",
            "Episode 123/500, Total Reward: -9826.014846801758\n",
            "Episode 124/500, Total Reward: 11393.769260406494\n",
            "Episode 125/500, Total Reward: -9862.730354309082\n",
            "Episode 126/500, Total Reward: 5296.015106201172\n",
            "Episode 127/500, Total Reward: 2010.454345703125\n",
            "Episode 128/500, Total Reward: 4576.459129333496\n",
            "Episode 129/500, Total Reward: -9853.680713653564\n",
            "Episode 130/500, Total Reward: 8645.53874206543\n",
            "Episode 131/500, Total Reward: 2061.1697425842285\n",
            "Episode 132/500, Total Reward: -3322.907787322998\n",
            "Episode 133/500, Total Reward: 2332.5508918762207\n",
            "Episode 134/500, Total Reward: 10744.733753204346\n",
            "Episode 135/500, Total Reward: -9936.76615524292\n",
            "Episode 136/500, Total Reward: -9855.807800292969\n",
            "Episode 137/500, Total Reward: 2621.44095993042\n",
            "Episode 138/500, Total Reward: -221.25671768188477\n",
            "Episode 139/500, Total Reward: 3605.291774749756\n",
            "Episode 140/500, Total Reward: 1929.5696640014648\n",
            "Episode 141/500, Total Reward: 3994.715072631836\n",
            "Episode 142/500, Total Reward: 3124.006576538086\n",
            "Episode 143/500, Total Reward: 175.19861221313477\n",
            "Episode 144/500, Total Reward: 2161.743118286133\n",
            "Episode 145/500, Total Reward: 1374.1890907287598\n",
            "Episode 146/500, Total Reward: 5020.0119705200195\n",
            "Episode 147/500, Total Reward: -9977.083168029785\n",
            "Episode 148/500, Total Reward: -9936.118671417236\n",
            "Episode 149/500, Total Reward: 3588.524730682373\n",
            "Episode 150/500, Total Reward: 8083.547576904297\n",
            "Episode 151/500, Total Reward: -9817.966850280762\n",
            "Episode 152/500, Total Reward: -9869.122924804688\n",
            "Episode 153/500, Total Reward: 2241.6029319763184\n",
            "Episode 154/500, Total Reward: -274.35372161865234\n",
            "Episode 155/500, Total Reward: -9762.424285888672\n",
            "Episode 156/500, Total Reward: -9909.478652954102\n",
            "Episode 157/500, Total Reward: 3060.537982940674\n",
            "Episode 158/500, Total Reward: -9924.747581481934\n",
            "Episode 159/500, Total Reward: 911.2677307128906\n",
            "Episode 160/500, Total Reward: -9882.710754394531\n",
            "Episode 161/500, Total Reward: -9882.516616821289\n",
            "Episode 162/500, Total Reward: -9940.673606872559\n",
            "Episode 163/500, Total Reward: -9927.818336486816\n",
            "Episode 164/500, Total Reward: -9816.227405548096\n",
            "Episode 165/500, Total Reward: -9867.461875915527\n",
            "Episode 166/500, Total Reward: -9845.32262802124\n",
            "Episode 167/500, Total Reward: -9868.734001159668\n",
            "Episode 168/500, Total Reward: -9927.962985992432\n",
            "Episode 169/500, Total Reward: -9969.406803131104\n",
            "Episode 170/500, Total Reward: 6303.212944030762\n",
            "Episode 171/500, Total Reward: -9999.022598266602\n",
            "Episode 172/500, Total Reward: -9939.885375976562\n",
            "Episode 173/500, Total Reward: -9877.715942382812\n",
            "Episode 174/500, Total Reward: -9975.679901123047\n",
            "Episode 175/500, Total Reward: -9821.020648956299\n",
            "Episode 176/500, Total Reward: -9848.779075622559\n",
            "Episode 177/500, Total Reward: -9856.374671936035\n",
            "Episode 178/500, Total Reward: 142.97462463378906\n",
            "Episode 179/500, Total Reward: 2795.3748321533203\n",
            "Episode 180/500, Total Reward: 4437.268451690674\n",
            "Episode 181/500, Total Reward: -9877.229457855225\n",
            "Episode 182/500, Total Reward: -9941.517501831055\n",
            "Episode 183/500, Total Reward: -9870.174354553223\n",
            "Episode 184/500, Total Reward: -9855.709381103516\n",
            "Episode 185/500, Total Reward: -9864.494247436523\n",
            "Episode 186/500, Total Reward: -9878.715660095215\n",
            "Episode 187/500, Total Reward: -9883.206676483154\n",
            "Episode 188/500, Total Reward: -9772.800788879395\n",
            "Episode 189/500, Total Reward: -440.11470794677734\n",
            "Episode 190/500, Total Reward: -9872.097846984863\n",
            "Episode 191/500, Total Reward: -9775.545913696289\n",
            "Episode 192/500, Total Reward: -1446.9180717468262\n",
            "Episode 193/500, Total Reward: -9953.101001739502\n",
            "Episode 194/500, Total Reward: 932.9912300109863\n",
            "Episode 195/500, Total Reward: -9786.157859802246\n",
            "Episode 196/500, Total Reward: -9793.298278808594\n",
            "Episode 197/500, Total Reward: 658.2701263427734\n",
            "Episode 198/500, Total Reward: -9936.468082427979\n",
            "Episode 199/500, Total Reward: -9946.055316925049\n",
            "Episode 200/500, Total Reward: 6201.538589477539\n",
            "Episode 201/500, Total Reward: -9867.702945709229\n",
            "Episode 202/500, Total Reward: 7337.001205444336\n",
            "Episode 203/500, Total Reward: -9878.867660522461\n",
            "Episode 204/500, Total Reward: -9840.984493255615\n",
            "Episode 205/500, Total Reward: -9860.10661315918\n",
            "Episode 206/500, Total Reward: -9783.946338653564\n",
            "Episode 207/500, Total Reward: -9903.278499603271\n",
            "Episode 208/500, Total Reward: -9784.172584533691\n",
            "Episode 209/500, Total Reward: -9847.142791748047\n",
            "Episode 210/500, Total Reward: -1162.0629348754883\n",
            "Episode 211/500, Total Reward: -9847.453964233398\n",
            "Episode 212/500, Total Reward: 1342.7026100158691\n",
            "Episode 213/500, Total Reward: 5006.898048400879\n",
            "Episode 214/500, Total Reward: -9840.78535079956\n",
            "Episode 215/500, Total Reward: 2588.889171600342\n",
            "Episode 216/500, Total Reward: -9842.77513885498\n",
            "Episode 217/500, Total Reward: -9934.787612915039\n",
            "Episode 218/500, Total Reward: -710.5480766296387\n",
            "Episode 219/500, Total Reward: -9925.803123474121\n",
            "Episode 220/500, Total Reward: -9862.316452026367\n",
            "Episode 221/500, Total Reward: -9896.378051757812\n",
            "Episode 222/500, Total Reward: 5784.741172790527\n",
            "Episode 223/500, Total Reward: -9904.475463867188\n",
            "Episode 224/500, Total Reward: -9876.389904022217\n",
            "Episode 225/500, Total Reward: -9948.657905578613\n",
            "Episode 226/500, Total Reward: 17.734230041503906\n",
            "Episode 227/500, Total Reward: 5492.137176513672\n",
            "Episode 228/500, Total Reward: -9852.315979003906\n",
            "Episode 229/500, Total Reward: -9915.145053863525\n",
            "Episode 230/500, Total Reward: 338.92679595947266\n",
            "Episode 231/500, Total Reward: 155.0947265625\n",
            "Episode 232/500, Total Reward: 3596.9293212890625\n",
            "Episode 233/500, Total Reward: 4846.088733673096\n",
            "Episode 234/500, Total Reward: -9975.229209899902\n",
            "Episode 235/500, Total Reward: 8868.708755493164\n",
            "Episode 236/500, Total Reward: -9922.06729888916\n",
            "Episode 237/500, Total Reward: -9905.89992904663\n",
            "Episode 238/500, Total Reward: -9993.785026550293\n",
            "Episode 239/500, Total Reward: 2645.7821884155273\n",
            "Episode 240/500, Total Reward: -9925.039329528809\n",
            "Episode 241/500, Total Reward: -9870.683204650879\n",
            "Episode 242/500, Total Reward: -9766.694854736328\n",
            "Episode 243/500, Total Reward: -9943.94584274292\n",
            "Episode 244/500, Total Reward: -88.0739860534668\n",
            "Episode 245/500, Total Reward: -9948.55936050415\n",
            "Episode 246/500, Total Reward: -9769.396465301514\n",
            "Episode 247/500, Total Reward: -9973.113780975342\n",
            "Episode 248/500, Total Reward: -9938.58311843872\n",
            "Episode 249/500, Total Reward: -9962.131816864014\n",
            "Episode 250/500, Total Reward: -9879.583629608154\n",
            "Episode 251/500, Total Reward: -9935.076042175293\n",
            "Episode 252/500, Total Reward: -9837.277503967285\n",
            "Episode 253/500, Total Reward: -9782.372806549072\n",
            "Episode 254/500, Total Reward: -9926.552490234375\n",
            "Episode 255/500, Total Reward: 1778.8666801452637\n",
            "Episode 256/500, Total Reward: -9910.643630981445\n",
            "Episode 257/500, Total Reward: -9991.551551818848\n",
            "Episode 258/500, Total Reward: -9820.591274261475\n",
            "Episode 259/500, Total Reward: -9878.186973571777\n",
            "Episode 260/500, Total Reward: -9913.683109283447\n",
            "Episode 261/500, Total Reward: -9857.039268493652\n",
            "Episode 262/500, Total Reward: -9976.87883758545\n",
            "Episode 263/500, Total Reward: 17.494407653808594\n",
            "Episode 264/500, Total Reward: -9869.190757751465\n",
            "Episode 265/500, Total Reward: -9911.832695007324\n",
            "Episode 266/500, Total Reward: -9829.269096374512\n",
            "Episode 267/500, Total Reward: 4292.278831481934\n",
            "Episode 268/500, Total Reward: 2868.3718338012695\n",
            "Episode 269/500, Total Reward: 5542.291366577148\n",
            "Episode 270/500, Total Reward: 1558.8047180175781\n",
            "Episode 271/500, Total Reward: -9924.724723815918\n",
            "Episode 272/500, Total Reward: -9929.574802398682\n",
            "Episode 273/500, Total Reward: -9890.365139007568\n",
            "Episode 274/500, Total Reward: -9770.629001617432\n",
            "Episode 275/500, Total Reward: -9858.732921600342\n",
            "Episode 276/500, Total Reward: -9970.723289489746\n",
            "Episode 277/500, Total Reward: -9785.442237854004\n",
            "Episode 278/500, Total Reward: -9899.427112579346\n",
            "Episode 279/500, Total Reward: 8239.143287658691\n",
            "Episode 280/500, Total Reward: -9933.71936416626\n",
            "Episode 281/500, Total Reward: 2450.4291343688965\n",
            "Episode 282/500, Total Reward: -9944.71269607544\n",
            "Episode 283/500, Total Reward: 12960.116401672363\n",
            "Episode 284/500, Total Reward: -9856.537307739258\n",
            "Episode 285/500, Total Reward: 4247.6124267578125\n",
            "Episode 286/500, Total Reward: -9928.726692199707\n",
            "Episode 287/500, Total Reward: -9946.925003051758\n",
            "Episode 288/500, Total Reward: -9865.251216888428\n",
            "Episode 289/500, Total Reward: -9827.416603088379\n",
            "Episode 290/500, Total Reward: -2154.466995239258\n",
            "Episode 291/500, Total Reward: 28579.7833404541\n",
            "Episode 292/500, Total Reward: -9935.228649139404\n",
            "Episode 293/500, Total Reward: 4401.159996032715\n",
            "Episode 294/500, Total Reward: -9993.195365905762\n",
            "Episode 295/500, Total Reward: 3461.574047088623\n",
            "Episode 296/500, Total Reward: -9861.630668640137\n",
            "Episode 297/500, Total Reward: -9785.423652648926\n",
            "Episode 298/500, Total Reward: -9938.960479736328\n",
            "Episode 299/500, Total Reward: -9924.3762550354\n",
            "Episode 300/500, Total Reward: 3546.913459777832\n",
            "Episode 301/500, Total Reward: -9976.07544708252\n",
            "Episode 302/500, Total Reward: -9897.438816070557\n",
            "Episode 303/500, Total Reward: -9873.695030212402\n",
            "Episode 304/500, Total Reward: 2908.0284423828125\n",
            "Episode 305/500, Total Reward: -9929.532516479492\n",
            "Episode 306/500, Total Reward: -9814.784481048584\n",
            "Episode 307/500, Total Reward: 4194.935127258301\n",
            "Episode 308/500, Total Reward: -9985.116149902344\n",
            "Episode 309/500, Total Reward: 401.32322692871094\n",
            "Episode 310/500, Total Reward: 765.4297790527344\n",
            "Episode 311/500, Total Reward: -247.83030319213867\n",
            "Episode 312/500, Total Reward: 1756.11576461792\n",
            "Episode 313/500, Total Reward: 621.15673828125\n",
            "Episode 314/500, Total Reward: 5184.247749328613\n",
            "Episode 315/500, Total Reward: 2870.033248901367\n",
            "Episode 316/500, Total Reward: -9937.244319915771\n",
            "Episode 317/500, Total Reward: 8090.837341308594\n",
            "Episode 318/500, Total Reward: 3187.033134460449\n",
            "Episode 319/500, Total Reward: 8211.735122680664\n",
            "Episode 320/500, Total Reward: 1506.5872116088867\n",
            "Episode 321/500, Total Reward: 872.4144515991211\n",
            "Episode 322/500, Total Reward: -375.25050354003906\n",
            "Episode 323/500, Total Reward: -1031.1987113952637\n",
            "Episode 324/500, Total Reward: 533.008415222168\n",
            "Episode 325/500, Total Reward: -892.1056823730469\n",
            "Episode 326/500, Total Reward: 3069.0668334960938\n",
            "Episode 327/500, Total Reward: 67.41594696044922\n",
            "Episode 328/500, Total Reward: 1728.474838256836\n",
            "Episode 329/500, Total Reward: 1710.715919494629\n",
            "Episode 330/500, Total Reward: 4400.817276000977\n",
            "Episode 331/500, Total Reward: 4860.625312805176\n",
            "Episode 332/500, Total Reward: 2088.280471801758\n",
            "Episode 333/500, Total Reward: 287.83250427246094\n",
            "Episode 334/500, Total Reward: -1663.6960678100586\n",
            "Episode 335/500, Total Reward: 1984.1405334472656\n",
            "Episode 336/500, Total Reward: -1761.5179595947266\n",
            "Episode 337/500, Total Reward: 901.8236923217773\n",
            "Episode 338/500, Total Reward: 960.4770812988281\n",
            "Episode 339/500, Total Reward: 4430.852760314941\n",
            "Episode 340/500, Total Reward: -393.0677833557129\n",
            "Episode 341/500, Total Reward: 1793.7227935791016\n",
            "Episode 342/500, Total Reward: 3702.0673294067383\n",
            "Episode 343/500, Total Reward: 661.0433959960938\n",
            "Episode 344/500, Total Reward: 174.7495231628418\n",
            "Episode 345/500, Total Reward: -981.6903305053711\n",
            "Episode 346/500, Total Reward: 1031.208511352539\n",
            "Episode 347/500, Total Reward: -938.8795166015625\n",
            "Episode 348/500, Total Reward: -1657.75048828125\n",
            "Episode 349/500, Total Reward: -712.1092224121094\n",
            "Episode 350/500, Total Reward: -1920.7466735839844\n",
            "Episode 351/500, Total Reward: 3477.075164794922\n",
            "Episode 352/500, Total Reward: 1652.6035232543945\n",
            "Episode 353/500, Total Reward: -627.0387802124023\n",
            "Episode 354/500, Total Reward: 1726.3041152954102\n",
            "Episode 355/500, Total Reward: 2283.979881286621\n",
            "Episode 356/500, Total Reward: 534.7101669311523\n",
            "Episode 357/500, Total Reward: -767.9542999267578\n",
            "Episode 358/500, Total Reward: 225.85869598388672\n",
            "Episode 359/500, Total Reward: -9834.468460083008\n",
            "Episode 360/500, Total Reward: -9834.541259765625\n",
            "Episode 361/500, Total Reward: 1705.3250198364258\n",
            "Episode 362/500, Total Reward: 1867.135986328125\n",
            "Episode 363/500, Total Reward: 3254.399730682373\n",
            "Episode 364/500, Total Reward: -9942.378234863281\n",
            "Episode 365/500, Total Reward: -95.83992767333984\n",
            "Episode 366/500, Total Reward: -1544.2771835327148\n",
            "Episode 367/500, Total Reward: 1528.4762229919434\n",
            "Episode 368/500, Total Reward: 2681.996307373047\n",
            "Episode 369/500, Total Reward: 6441.2949142456055\n",
            "Episode 370/500, Total Reward: 11599.52481842041\n",
            "Episode 371/500, Total Reward: -9929.758392333984\n",
            "Episode 372/500, Total Reward: -9999.414733886719\n",
            "Episode 373/500, Total Reward: -9987.142036437988\n",
            "Episode 374/500, Total Reward: -9957.441551208496\n",
            "Episode 375/500, Total Reward: -9986.8521194458\n",
            "Episode 376/500, Total Reward: -9792.161735534668\n",
            "Episode 377/500, Total Reward: -9934.368255615234\n",
            "Episode 378/500, Total Reward: -9980.69123840332\n",
            "Episode 379/500, Total Reward: -9852.451992034912\n",
            "Episode 380/500, Total Reward: -9723.094245910645\n",
            "Episode 381/500, Total Reward: -9896.3500289917\n",
            "Episode 382/500, Total Reward: -9919.95832824707\n",
            "Episode 383/500, Total Reward: -9983.895835876465\n",
            "Episode 384/500, Total Reward: -9764.897789001465\n",
            "Episode 385/500, Total Reward: -9994.327667236328\n",
            "Episode 386/500, Total Reward: -9916.526683807373\n",
            "Episode 387/500, Total Reward: -9893.497352600098\n",
            "Episode 388/500, Total Reward: -9856.44974899292\n",
            "Episode 389/500, Total Reward: -9866.23547744751\n",
            "Episode 390/500, Total Reward: -9875.176361083984\n",
            "Episode 391/500, Total Reward: -9764.669822692871\n",
            "Episode 392/500, Total Reward: -9851.746940612793\n",
            "Episode 393/500, Total Reward: -9938.538516998291\n",
            "Episode 394/500, Total Reward: 11421.56290435791\n",
            "Episode 395/500, Total Reward: -9997.41470336914\n",
            "Episode 396/500, Total Reward: -9999.662525177002\n",
            "Episode 397/500, Total Reward: -9931.516300201416\n",
            "Episode 398/500, Total Reward: -9843.737739562988\n",
            "Episode 399/500, Total Reward: -9968.718894958496\n",
            "Episode 400/500, Total Reward: -9856.870391845703\n",
            "Episode 401/500, Total Reward: -9937.938694000244\n",
            "Episode 402/500, Total Reward: -9937.407302856445\n",
            "Episode 403/500, Total Reward: -9817.809837341309\n",
            "Episode 404/500, Total Reward: -9838.900131225586\n",
            "Episode 405/500, Total Reward: 3234.134963989258\n",
            "Episode 406/500, Total Reward: -9930.615371704102\n",
            "Episode 407/500, Total Reward: -9828.148498535156\n",
            "Episode 408/500, Total Reward: -9844.11587524414\n",
            "Episode 409/500, Total Reward: -9940.910335540771\n",
            "Episode 410/500, Total Reward: -9934.799537658691\n",
            "Episode 411/500, Total Reward: -9933.379295349121\n",
            "Episode 412/500, Total Reward: -9840.265460968018\n",
            "Episode 413/500, Total Reward: -1204.1042366027832\n",
            "Episode 414/500, Total Reward: -9861.649070739746\n",
            "Episode 415/500, Total Reward: -9852.43928527832\n",
            "Episode 416/500, Total Reward: -9823.15032196045\n",
            "Episode 417/500, Total Reward: -9938.272312164307\n",
            "Episode 418/500, Total Reward: -9926.36876296997\n",
            "Episode 419/500, Total Reward: -9937.629634857178\n",
            "Episode 420/500, Total Reward: -9935.541458129883\n",
            "Episode 421/500, Total Reward: 9719.245178222656\n",
            "Episode 422/500, Total Reward: -9776.727138519287\n",
            "Episode 423/500, Total Reward: -9940.175540924072\n",
            "Episode 424/500, Total Reward: -9931.711929321289\n",
            "Episode 425/500, Total Reward: 13767.532684326172\n",
            "Episode 426/500, Total Reward: -9933.976818084717\n",
            "Episode 427/500, Total Reward: -9935.541458129883\n",
            "Episode 428/500, Total Reward: -9877.619033813477\n",
            "Episode 429/500, Total Reward: -9933.488506317139\n",
            "Episode 430/500, Total Reward: -9858.455863952637\n",
            "Episode 431/500, Total Reward: -9933.770042419434\n",
            "Episode 432/500, Total Reward: 609.5564117431641\n",
            "Episode 433/500, Total Reward: 2620.138469696045\n",
            "Episode 434/500, Total Reward: 14784.213386535645\n",
            "Episode 435/500, Total Reward: -9964.411727905273\n",
            "Episode 436/500, Total Reward: -9847.401672363281\n",
            "Episode 437/500, Total Reward: -9787.607540130615\n",
            "Episode 438/500, Total Reward: 2915.592140197754\n",
            "Episode 439/500, Total Reward: 11522.178596496582\n",
            "Episode 440/500, Total Reward: 10331.868728637695\n",
            "Episode 441/500, Total Reward: -9784.750022888184\n",
            "Episode 442/500, Total Reward: -9844.760238647461\n",
            "Episode 443/500, Total Reward: 16684.30142211914\n",
            "Episode 444/500, Total Reward: -9785.177055358887\n",
            "Episode 445/500, Total Reward: -9769.665878295898\n",
            "Episode 446/500, Total Reward: -9932.719802856445\n",
            "Episode 447/500, Total Reward: -9790.987358093262\n",
            "Episode 448/500, Total Reward: -9848.601303100586\n",
            "Episode 449/500, Total Reward: -9934.243957519531\n",
            "Episode 450/500, Total Reward: 2956.2681884765625\n",
            "Episode 451/500, Total Reward: 14739.884162902832\n",
            "Episode 452/500, Total Reward: 3328.1007232666016\n",
            "Episode 453/500, Total Reward: -9765.374603271484\n",
            "Episode 454/500, Total Reward: -9974.023971557617\n",
            "Episode 455/500, Total Reward: -9787.049743652344\n",
            "Episode 456/500, Total Reward: -9989.37174987793\n",
            "Episode 457/500, Total Reward: -9837.986938476562\n",
            "Episode 458/500, Total Reward: -9768.086936950684\n",
            "Episode 459/500, Total Reward: -9933.05940246582\n",
            "Episode 460/500, Total Reward: -9932.650573730469\n",
            "Episode 461/500, Total Reward: -9932.484519958496\n",
            "Episode 462/500, Total Reward: -9933.354671478271\n",
            "Episode 463/500, Total Reward: -9935.907081604004\n",
            "Episode 464/500, Total Reward: 3810.0776443481445\n",
            "Episode 465/500, Total Reward: -2109.372791290283\n",
            "Episode 466/500, Total Reward: 310.26780700683594\n",
            "Episode 467/500, Total Reward: -9837.85124206543\n",
            "Episode 468/500, Total Reward: -9934.324569702148\n",
            "Episode 469/500, Total Reward: -9933.505729675293\n",
            "Episode 470/500, Total Reward: -9778.351089477539\n",
            "Episode 471/500, Total Reward: -9961.337501525879\n",
            "Episode 472/500, Total Reward: -1401.0267944335938\n",
            "Episode 473/500, Total Reward: -9861.733081817627\n",
            "Episode 474/500, Total Reward: -9787.183723449707\n",
            "Episode 475/500, Total Reward: -9983.280242919922\n",
            "Episode 476/500, Total Reward: 4797.41682434082\n",
            "Episode 477/500, Total Reward: -9934.668952941895\n",
            "Episode 478/500, Total Reward: -9993.43872833252\n",
            "Episode 479/500, Total Reward: -9871.565742492676\n",
            "Episode 480/500, Total Reward: -9978.648735046387\n",
            "Episode 481/500, Total Reward: -9770.833583831787\n",
            "Episode 482/500, Total Reward: -9743.10956954956\n",
            "Episode 483/500, Total Reward: -9882.332336425781\n",
            "Episode 484/500, Total Reward: 2033.110595703125\n",
            "Episode 485/500, Total Reward: -9924.473461151123\n",
            "Episode 486/500, Total Reward: -9848.62230682373\n",
            "Episode 487/500, Total Reward: -9970.494876861572\n",
            "Episode 488/500, Total Reward: 8305.126602172852\n",
            "Episode 489/500, Total Reward: -9800.090660095215\n",
            "Episode 490/500, Total Reward: -9939.56266784668\n",
            "Episode 491/500, Total Reward: -9852.7094039917\n",
            "Episode 492/500, Total Reward: -9857.216800689697\n",
            "Episode 493/500, Total Reward: -9935.782447814941\n",
            "Episode 494/500, Total Reward: 7987.117649078369\n",
            "Episode 495/500, Total Reward: -9979.542125701904\n",
            "Episode 496/500, Total Reward: -9892.420249938965\n",
            "Episode 497/500, Total Reward: -9983.545852661133\n",
            "Episode 498/500, Total Reward: -9983.233432769775\n",
            "Episode 499/500, Total Reward: -9891.837173461914\n",
            "Episode 500/500, Total Reward: -9997.026908874512\n",
            "Training Complete!\n"
          ]
        }
      ]
    },
    {
      "cell_type": "markdown",
      "source": [
        "Here, we trained the AI Trading Agent using Deep Q-Learning, simulating 500 trading sessions where the agent learned from experience. It leveraged Exploration & Exploitation, initially taking random actions before making more informed decisions as training progressed.\n",
        "\n",
        "\n",
        "---\n",
        "\n",
        "\n",
        "Experience Replay is used to store past experiences, allowing the neural network to learn through batch training. Throughout the process, we tracked rewards to measure the agent’s performance improvements over time.\n"
      ],
      "metadata": {
        "id": "TiwcmqxTYJ8a"
      }
    },
    {
      "cell_type": "markdown",
      "source": [
        "After training, we can test the agent on new market data by allowing it to make decisions without random exploration:"
      ],
      "metadata": {
        "id": "2m8iOoikYUdy"
      }
    },
    {
      "cell_type": "code",
      "source": [
        "# create a fresh environment instance for testing\n",
        "test_env = TradingEnvironment(data)\n",
        "state = test_env.reset()\n",
        "done = False\n",
        "\n",
        "# simulate a trading session using the trained agent\n",
        "while not done:\n",
        "    # always choose the best action (exploitation)\n",
        "    action = agent.act(state)\n",
        "    next_state, reward, done, _ = test_env.step(action)\n",
        "    state = next_state if next_state is not None else state\n",
        "\n",
        "final_balance = test_env.balance\n",
        "profit = final_balance - test_env.initial_balance\n",
        "print(f\"Final Balance after testing: ${final_balance:.2f}\")\n",
        "print(f\"Total Profit: ${profit:.2f}\")"
      ],
      "metadata": {
        "colab": {
          "base_uri": "https://localhost:8080/"
        },
        "id": "ZJDQcb2QYFPI",
        "outputId": "f9732667-16fd-4a3d-9906-a40d02487b1f"
      },
      "execution_count": null,
      "outputs": [
        {
          "output_type": "stream",
          "name": "stderr",
          "text": [
            "<ipython-input-17-3915787d8dfc>:4: FutureWarning: Calling float on a single element Series is deprecated and will raise a TypeError in the future. Use float(ser.iloc[0]) instead\n",
            "  float(data.loc[index, 'Close']),\n",
            "<ipython-input-17-3915787d8dfc>:5: FutureWarning: Calling float on a single element Series is deprecated and will raise a TypeError in the future. Use float(ser.iloc[0]) instead\n",
            "  float(data.loc[index, 'SMA_5']),\n",
            "<ipython-input-17-3915787d8dfc>:6: FutureWarning: Calling float on a single element Series is deprecated and will raise a TypeError in the future. Use float(ser.iloc[0]) instead\n",
            "  float(data.loc[index, 'SMA_20']),\n",
            "<ipython-input-17-3915787d8dfc>:7: FutureWarning: Calling float on a single element Series is deprecated and will raise a TypeError in the future. Use float(ser.iloc[0]) instead\n",
            "  float(data.loc[index, 'Returns'])\n",
            "<ipython-input-18-71f231bc395a>:17: FutureWarning: Calling float on a single element Series is deprecated and will raise a TypeError in the future. Use float(ser.iloc[0]) instead\n",
            "  price = float(self.data.loc[self.index, 'Close'])\n"
          ]
        },
        {
          "output_type": "stream",
          "name": "stdout",
          "text": [
            "Final Balance after testing: $204.33\n",
            "Total Profit: $-9795.67\n"
          ]
        }
      ]
    },
    {
      "cell_type": "markdown",
      "source": [
        "# Summary"
      ],
      "metadata": {
        "id": "u32sSK_3YcCi"
      }
    },
    {
      "cell_type": "markdown",
      "source": [
        "So, in this article, we explored how to build an AI trading agent using Agentic AI and Deep Q-Learning, enabling it to make autonomous trading decisions. After training, our AI agent successfully generated a small but positive profit, which demonstrates its ability to navigate market fluctuations. I hope you liked this article on building an AI Agent using Agentic AI with Python. Feel free to ask valuable questions in the comments section below."
      ],
      "metadata": {
        "id": "ZcH6_rnJYiOB"
      }
    },
    {
      "cell_type": "code",
      "source": [],
      "metadata": {
        "id": "glLvLm47o8Fa"
      },
      "execution_count": null,
      "outputs": []
    }
  ]
}